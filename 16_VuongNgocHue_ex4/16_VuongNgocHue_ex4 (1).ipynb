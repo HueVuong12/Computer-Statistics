{
 "cells": [
  {
   "cell_type": "markdown",
   "metadata": {},
   "source": [
    "## BÀI TẬP"
   ]
  },
  {
   "cell_type": "code",
   "execution_count": 3,
   "metadata": {},
   "outputs": [],
   "source": [
    "import numpy as np\n",
    "import scipy.stats as st\n",
    "import matplotlib.pyplot as plt\n",
    "from scipy.stats import binom\n",
    "from scipy.stats import poisson\n",
    "from scipy.stats import norm\n",
    "from scipy.stats import t"
   ]
  },
  {
   "cell_type": "code",
   "execution_count": 2,
   "metadata": {},
   "outputs": [
    {
     "name": "stdout",
     "output_type": "stream",
     "text": [
      "Requirement already satisfied: scipy in c:\\programdata\\anaconda3\\lib\\site-packages (1.5.2)\n",
      "Requirement already satisfied: numpy>=1.14.5 in c:\\programdata\\anaconda3\\lib\\site-packages (from scipy) (1.19.2)\n",
      "Note: you may need to restart the kernel to use updated packages.\n"
     ]
    }
   ],
   "source": [
    "pip install scipy"
   ]
  },
  {
   "cell_type": "markdown",
   "metadata": {},
   "source": [
    "**Bài 01:** Một bài thi trắc nghiệm gồm 10 câu hỏi, mỗi câu có 4 phương án trả lời trong đó chỉ có một phương án đúng. Bạn hãy: \n",
    "\n",
    "a. Một sinh viên không học bài làm bài bằng cách chọn ngẫu nhiên một phương án cho mỗi câu hỏi. Bạn hãy dùng hàm random để in ra số câu đúng của bạn sinh viên trong 10 lần kiểm tra.\n",
    "\n",
    "b. Giả sử mỗi câu đúng được 4 điểm, mỗi câu sai bị trừ 2 điểm. Tính xác suất để sinh viên này được 4 điểm\n",
    "\n",
    "c. Gọi X là số câu trả lời đúng. Tính E(X) và Var(X)"
   ]
  },
  {
   "cell_type": "code",
   "execution_count": 11,
   "metadata": {},
   "outputs": [
    {
     "data": {
      "text/plain": [
       "array([4, 1, 2, 2, 1, 2, 3, 1, 1, 1], dtype=int64)"
      ]
     },
     "execution_count": 11,
     "metadata": {},
     "output_type": "execute_result"
    }
   ],
   "source": [
    "n, p = 10, 0.25\n",
    "\n",
    "st.binom.rvs(n,p,size=10)"
   ]
  },
  {
   "cell_type": "code",
   "execution_count": 13,
   "metadata": {},
   "outputs": [
    {
     "data": {
      "text/plain": [
       "0.14599800109863273"
      ]
     },
     "execution_count": 13,
     "metadata": {},
     "output_type": "execute_result"
    }
   ],
   "source": [
    "st.binom.pmf(4,n,p)"
   ]
  },
  {
   "cell_type": "code",
   "execution_count": 14,
   "metadata": {},
   "outputs": [
    {
     "name": "stdout",
     "output_type": "stream",
     "text": [
      "x = 0, f(0) = 0.05631351470947268\n",
      "x = 1, f(1) = 0.1877117156982422\n",
      "x = 2, f(2) = 0.28156757354736334\n",
      "x = 3, f(3) = 0.2502822875976561\n",
      "x = 4, f(4) = 0.14599800109863273\n",
      "x = 5, f(5) = 0.058399200439453146\n",
      "x = 6, f(6) = 0.0162220001220703\n",
      "x = 7, f(7) = 0.0030899047851562487\n",
      "x = 8, f(8) = 0.0003862380981445314\n",
      "x = 9, f(9) = 2.8610229492187466e-05\n",
      "x = 10, f(10) = 9.5367431640625e-07\n",
      "\n",
      "Kỳ vọng: 2.499999999999999\n"
     ]
    }
   ],
   "source": [
    "ex = 0\n",
    "for x in range(0,11):\n",
    "    fx = st.binom.pmf(x,n,p)\n",
    "    print(f'x = {x}, f({x}) = {fx}')\n",
    "\n",
    "    ex += x*fx\n",
    "\n",
    "print(f'\\nKỳ vọng: {ex}')"
   ]
  },
  {
   "cell_type": "markdown",
   "metadata": {},
   "source": [
    "**Bài 02:** Một trung tâm bưu điện nhận được 3 cuộc gọi điện thoại mỗi phút. Tính xác suất để trung tâm nhận được 1 cuộc gọi, 2 cuộc gọi, 3 cuộc gọi trong vòng một phút biết số cuộc gọi trong một phút có phân phối Poisson."
   ]
  },
  {
   "cell_type": "code",
   "execution_count": 12,
   "metadata": {},
   "outputs": [
    {
     "data": {
      "text/plain": [
       "0.14599800109863273"
      ]
     },
     "execution_count": 12,
     "metadata": {},
     "output_type": "execute_result"
    }
   ],
   "source": [
    "ld = 3\n",
    "st.poisson.pmf(2,ld)"
   ]
  },
  {
   "cell_type": "markdown",
   "metadata": {},
   "source": [
    "**Bài 03:** Trọng lượng (đơn vị gam) của một loại trái cây có phân phối chuẩn với µ = 500 (gam) gam và $σ^2 = 16 (gam^2)$. Trái cây thu hoạch được phân loại theo trọng lượng như sau:\n",
    "\n",
    "Loại 1: trên 505 gam\n",
    "\n",
    "Loại 2: từ 495 – 505 gam\n",
    "\n",
    "Loại 3: dười 495 gam\n",
    "\n",
    "a. Hãy tính tỷ lệ của mỗi loại.\n",
    "\n",
    "b. Bạn hãy mô phỏng lấy mẫu  20 trái cây trên. Bạn hãy vẽ histogram trọng lượng trái cây và tính giá trị trung bình và độ lệch chuẩn trái cây từ mẫu\n",
    "\n",
    "c. Bạn hãy mô phỏng lấy 100 trái cây trên. Bạn hãy vẽ histogram trọng lượng trái cây và tính giá trị trung bình và độ lệch chuẩn trái cây từ mẫu\n",
    "\n",
    "d. Từ hai cách lấy mẫu ở câu b, c bạn có nhận xét gì không?"
   ]
  },
  {
   "cell_type": "code",
   "execution_count": 16,
   "metadata": {},
   "outputs": [
    {
     "data": {
      "text/plain": [
       "array([494.41723727, 500.50449677, 501.78565828, 497.63019704,\n",
       "       497.7510051 , 498.99461488, 504.53621811, 500.24295142,\n",
       "       504.31586888, 504.73988944])"
      ]
     },
     "execution_count": 16,
     "metadata": {},
     "output_type": "execute_result"
    }
   ],
   "source": [
    "mu, sigma = 500, 4\n",
    "\n",
    "st.norm.rvs(mu, sigma, size=10)"
   ]
  },
  {
   "cell_type": "code",
   "execution_count": 21,
   "metadata": {},
   "outputs": [
    {
     "name": "stdout",
     "output_type": "stream",
     "text": [
      "Tỷ lệ của loại 1: 0.10564977366685535\n",
      "Tỷ lệ của loại 2: 0.7887004526662893\n",
      "Tỷ lệ của loại 3: 0.10564977366685535\n"
     ]
    }
   ],
   "source": [
    "\n",
    "p_type1 = 1 - norm.cdf(505, mu, sigma)\n",
    "\n",
    "print(\"Tỷ lệ của loại 1:\", p_type1)\n",
    "\n",
    "p_type2 = norm.cdf(505, mu, sigma) - norm.cdf(495, mu, sigma)\n",
    "\n",
    "print(\"Tỷ lệ của loại 2:\", p_type2)\n",
    "\n",
    "p_type3 = norm.cdf(495, mu, sigma)\n",
    "\n",
    "print(\"Tỷ lệ của loại 3:\", p_type3)"
   ]
  },
  {
   "cell_type": "code",
   "execution_count": 22,
   "metadata": {},
   "outputs": [
    {
     "data": {
      "image/png": "[encoded data removed]",
      "text/plain": [
       "<Figure size 640x480 with 1 Axes>"
      ]
     },
     "metadata": {},
     "output_type": "display_data"
    }
   ],
   "source": [
    "# Mô phỏng lấy mẫu 20 trái cây\n",
    "sample = np.random.normal(mu, sigma, 20)\n",
    "\n",
    "# Vẽ histogram\n",
    "plt.hist(sample, bins=10, edgecolor='black')\n",
    "plt.xlabel('Trọng lượng (gam)')\n",
    "plt.ylabel('Số lượng')\n",
    "plt.title('Histogram trọng lượng trái cây')\n",
    "plt.show()"
   ]
  },
  {
   "cell_type": "code",
   "execution_count": 23,
   "metadata": {},
   "outputs": [
    {
     "name": "stdout",
     "output_type": "stream",
     "text": [
      "Giá trị trung bình: 499.07809217989245\n",
      "Độ lệch chuẩn: 2.7992715871812694\n"
     ]
    }
   ],
   "source": [
    "# Tính giá trị trung bình và độ lệch chuẩn từ mẫu\n",
    "mean = np.mean(sample)\n",
    "std = np.std(sample)\n",
    "\n",
    "# In giá trị trung bình và độ lệch chuẩn\n",
    "print(\"Giá trị trung bình:\", mean)\n",
    "print(\"Độ lệch chuẩn:\", std)"
   ]
  },
  {
   "cell_type": "code",
   "execution_count": 24,
   "metadata": {},
   "outputs": [
    {
     "data": {
      "image/png": "[encoded data removed]",
      "text/plain": [
       "<Figure size 640x480 with 1 Axes>"
      ]
     },
     "metadata": {},
     "output_type": "display_data"
    }
   ],
   "source": [
    "# Mô phỏng lấy mẫu 100 trái cây\n",
    "sample = np.random.normal(mu, sigma, 100)\n",
    "\n",
    "# Vẽ histogram\n",
    "plt.hist(sample, bins=10, edgecolor='black')\n",
    "plt.xlabel('Trọng lượng (gam)')\n",
    "plt.ylabel('Số lượng')\n",
    "plt.title('Histogram trọng lượng trái cây')\n",
    "plt.show()"
   ]
  },
  {
   "cell_type": "code",
   "execution_count": 25,
   "metadata": {},
   "outputs": [
    {
     "name": "stdout",
     "output_type": "stream",
     "text": [
      "Giá trị trung bình: 499.99391741661935\n",
      "Độ lệch chuẩn: 3.9069578481073184\n"
     ]
    }
   ],
   "source": [
    "# Tính giá trị trung bình và độ lệch chuẩn từ mẫu\n",
    "mean = np.mean(sample)\n",
    "std = np.std(sample)\n",
    "\n",
    "# In giá trị trung bình và độ lệch chuẩn\n",
    "print(\"Giá trị trung bình:\", mean)\n",
    "print(\"Độ lệch chuẩn:\", std)"
   ]
  },
  {
   "cell_type": "markdown",
   "metadata": {},
   "source": [
    "**Bài 04:** Mô phỏng tung một con xúc sắc cân đối đồng chất 5000 lần. Dựa vào giá trị mô phỏng, bạn hãy tìm các giá trị xác suất dưới đây:\n",
    "\n",
    "a. Xác suất để  số chấm xuất hiện là 4\n",
    "\n",
    "b. Xác suất để số chấm xuất hiện lớn hơn hoặc bằng 4\n",
    "\n",
    "c. Giả sử biết số chấm xuất hiện lớn hơn hoặc bằng 4. Hãy tìm xác suất để mặt 6 chấm xuất hiện."
   ]
  },
  {
   "cell_type": "code",
   "execution_count": 29,
   "metadata": {},
   "outputs": [
    {
     "name": "stdout",
     "output_type": "stream",
     "text": [
      "0.0\n"
     ]
    }
   ],
   "source": [
    "n = 5000  \n",
    "# số lần thử nghiệm\n",
    "p = 1/6  \n",
    "# xác suất thành công trong mỗi lần thử\n",
    "\n",
    "binomial_dist = binom(n, p)\n",
    "probability = binomial_dist.pmf(4)\n",
    "\n",
    "print(probability)"
   ]
  },
  {
   "cell_type": "code",
   "execution_count": 30,
   "metadata": {},
   "outputs": [
    {
     "name": "stdout",
     "output_type": "stream",
     "text": [
      "1.0\n"
     ]
    }
   ],
   "source": [
    "binomial_dist = binom(n, p)\n",
    "probability = 1 - binomial_dist.cdf(3)\n",
    "\n",
    "print(probability)"
   ]
  },
  {
   "cell_type": "code",
   "execution_count": 34,
   "metadata": {},
   "outputs": [
    {
     "name": "stdout",
     "output_type": "stream",
     "text": [
      "Xác suất để mặt 6 chấm xuất hiện trong số chấm xuất hiện lớn hơn hoặc bằng 4 là: 7 / 10000\n"
     ]
    }
   ],
   "source": [
    "n = 4  \n",
    "# Số lần tung\n",
    "p = 1/6  \n",
    "# Xác suất thành công (mặt 6 chấm xuất hiện)\n",
    "\n",
    "k = 4  \n",
    "# Số chấm xuất hiện (mặt 6)\n",
    "\n",
    "# Tính xác suất sử dụng PMF của phân phối nhị thức\n",
    "probability = binom.pmf(k, n, p)\n",
    "\n",
    "# Chuyển đổi kết quả thành phân số\n",
    "numerator = int(probability * 10000)\n",
    "denominator = 10000\n",
    "\n",
    "print(\"Xác suất để mặt 6 chấm xuất hiện trong số chấm xuất hiện lớn hơn hoặc bằng 4 là:\", numerator, \"/\", denominator)"
   ]
  },
  {
   "cell_type": "markdown",
   "metadata": {},
   "source": [
    "**Bài 05:** Tạo 5000 số ngẫu nhiên có phân phối nhị thức với n=50, p=0.7 Bạn Hãy\n",
    "\n",
    "a. Tìm các giá trị thống kê: min, max, Q1, Q2, Q3\n",
    "\n",
    "b. Vẽ đồ thị boxplot\n",
    "\n",
    "c. Vẽ các đồ thị: tần số, tần suất"
   ]
  },
  {
   "cell_type": "code",
   "execution_count": 35,
   "metadata": {},
   "outputs": [
    {
     "name": "stdout",
     "output_type": "stream",
     "text": [
      "Min: 23\n",
      "Max: 44\n",
      "Q1: 33.0\n",
      "Q2: 35.0\n",
      "Q3: 37.0\n"
     ]
    },
    {
     "data": {
      "image/png": "[encoded data removed]",
      "text/plain": [
       "<Figure size 640x480 with 1 Axes>"
      ]
     },
     "metadata": {},
     "output_type": "display_data"
    },
    {
     "data": {
      "image/png": "[encoded data removed]",
      "text/plain": [
       "<Figure size 640x480 with 1 Axes>"
      ]
     },
     "metadata": {},
     "output_type": "display_data"
    },
    {
     "data": {
      "image/png": "[encoded data removed]",
      "text/plain": [
       "<Figure size 640x480 with 1 Axes>"
      ]
     },
     "metadata": {},
     "output_type": "display_data"
    }
   ],
   "source": [
    "# Tạo 5000 số ngẫu nhiên có phân phối nhị thức\n",
    "n = 50\n",
    "p = 0.7\n",
    "random_numbers = binom.rvs(n, p, size=5000)\n",
    "\n",
    "# a. Tìm các giá trị thống kê: min, max, Q1, Q2, Q3\n",
    "min_value = np.min(random_numbers)\n",
    "max_value = np.max(random_numbers)\n",
    "Q1 = np.percentile(random_numbers, 25)\n",
    "Q2 = np.percentile(random_numbers, 50)\n",
    "Q3 = np.percentile(random_numbers, 75)\n",
    "\n",
    "print(\"Min:\", min_value)\n",
    "print(\"Max:\", max_value)\n",
    "print(\"Q1:\", Q1)\n",
    "print(\"Q2:\", Q2)\n",
    "print(\"Q3:\", Q3)\n",
    "\n",
    "# b. Vẽ đồ thị boxplot\n",
    "plt.boxplot(random_numbers)\n",
    "plt.xlabel(\"Phân phối nhị thức\")\n",
    "plt.ylabel(\"Giá trị\")\n",
    "plt.title(\"Đồ thị boxplot\")\n",
    "plt.show()\n",
    "\n",
    "# c. Vẽ các đồ thị: tần số, tần suất\n",
    "plt.hist(random_numbers, bins='auto', edgecolor='black')\n",
    "plt.xlabel(\"Giá trị\")\n",
    "plt.ylabel(\"Tần số\")\n",
    "plt.title(\"Đồ thị tần số\")\n",
    "plt.show()\n",
    "\n",
    "plt.hist(random_numbers, bins='auto', edgecolor='black', density=True)\n",
    "plt.xlabel(\"Giá trị\")\n",
    "plt.ylabel(\"Tần suất\")\n",
    "plt.title(\"Đồ thị tần suất\")\n",
    "plt.show()"
   ]
  }
 ],
 "metadata": {
  "kernelspec": {
   "display_name": "Python 3 (ipykernel)",
   "language": "python",
   "name": "python3"
  },
  "language_info": {
   "codemirror_mode": {
    "name": "ipython",
    "version": 3
   },
   "file_extension": ".py",
   "mimetype": "text/x-python",
   "name": "python",
   "nbconvert_exporter": "python",
   "pygments_lexer": "ipython3",
   "version": "3.8.5"
  }
 },
 "nbformat": 4,
 "nbformat_minor": 4
}
