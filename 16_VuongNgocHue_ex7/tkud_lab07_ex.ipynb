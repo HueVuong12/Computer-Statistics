{
 "cells": [
  {
   "cell_type": "markdown",
   "metadata": {},
   "source": [
    "# BÀI TẬP"
   ]
  },
  {
   "cell_type": "markdown",
   "metadata": {},
   "source": [
    "## Kiểm định đặc trưng tỉ lệ (p)"
   ]
  },
  {
   "cell_type": "markdown",
   "metadata": {},
   "source": [
    "### Bài 1\n",
    "\n",
    "Dataset 18 (__M&M__) chứa thông tin trọng lượng và màu sắc của mẫu các viên kẹo của hãng M&M. \n",
    "\n",
    "Sử dụng mẫu trên bạn hãy kiểm tra phát biểu sau: __\"20% kẹo M&M có màu đỏ\"__ với mức ý nghĩa là 5%\n",
    "\n",
    "*Hướng dẫn: tính tỷ lệ các viên kẹo có màu đỏ từ dữ liệu, sử dụng kết quả để kiểm định phát biểu trên*"
   ]
  },
  {
   "cell_type": "code",
   "execution_count": 29,
   "metadata": {},
   "outputs": [],
   "source": [
    "import numpy as np\n",
    "import pandas as pd\n",
    "import scipy.stats as ste\n",
    "df = pd.read_excel('data/18_M_M.xls')"
   ]
  },
  {
   "cell_type": "code",
   "execution_count": 20,
   "metadata": {},
   "outputs": [
    {
     "name": "stdout",
     "output_type": "stream",
     "text": [
      "trung binh 0.8635\n",
      "Độ lệch chuẩn mẫu: 0.0576\n"
     ]
    }
   ],
   "source": [
    "data = [0.751, 0.841, 0.856, 0.799, 0.966, 0.859, 0.857, 0.942, 0.873, 0.809, 0.890, 0.878 ,0.905]\n",
    "print(\"Trung binh\",df['Red'].mean().round(4))\n",
    "dlc = np.std(data, ddof=1).round(4)\n",
    "print(f'Độ lệch chuẩn mẫu: {dlc}')"
   ]
  },
  {
   "cell_type": "code",
   "execution_count": null,
   "metadata": {},
   "outputs": [],
   "source": [
    "# n = 13\n",
    "# anpla =  0.05\n",
    "# x = 0.8635"
   ]
  },
  {
   "cell_type": "code",
   "execution_count": 32,
   "metadata": {},
   "outputs": [
    {
     "data": {
      "text/plain": [
       "2.1788"
      ]
     },
     "execution_count": 32,
     "metadata": {},
     "output_type": "execute_result"
    }
   ],
   "source": [
    "alpha = 0.05\n",
    "n = 13\n",
    "st.t.isf(alpha/2, n-1).round(4)"
   ]
  },
  {
   "cell_type": "code",
   "execution_count": null,
   "metadata": {},
   "outputs": [],
   "source": []
  },
  {
   "cell_type": "markdown",
   "metadata": {},
   "source": [
    "### Bài 2\n",
    "\n",
    "Dataset 3 (__FRESH15__) chứa thông tin khảo sát những thay đổi về trọng lượng (weight - WT) và chỉ số khối của cơ thể (BMI) của sinh viên năm nhất tại một trường Đại Học. Thời điểm khảo sát là bắt đầu học kỳ (tháng 9 - SEP) và kết thúc học kỳ (tháng 4 - APR), các sinh viên được chọn ngẫu nhiên trong trường.\n",
    "\n",
    "Sử dụng mẫu trên, hãy kiểm tra phát biểu:__\"50% số sinh viên trong trường là nam\"__ với mức ý nghĩa 50%\n",
    "\n",
    "Các thuộc tính trong bộ dữ liệu:\n",
    "- SEX: Giới tính\n",
    "- WTSEP: trọng lượng đo vào tháng 9 (mới nhập học)\n",
    "- WTAPR: trọng lượng đo vào tháng 4 (kết thúc năm học)\n",
    "- BMISP: BMI tháng 9\n",
    "- BMIAP: BMI tháng 4"
   ]
  },
  {
   "cell_type": "code",
   "execution_count": 30,
   "metadata": {},
   "outputs": [],
   "source": [
    "df = pd.read_excel('data/03_FRESH15.xls')"
   ]
  },
  {
   "cell_type": "markdown",
   "metadata": {},
   "source": [
    "### Bài 3\n",
    "\n",
    "Dataset 6(__BEARS__) chứa thông tin khảo sát ngẫu nhiên các con gấu trong một khu rừng.\n",
    "\n",
    "Sử dụng mẫu trên, bạn hãy kiểm tra phát biểu: __\"tỷ lệ gấu đực trong khu rừng là 50%\"\"__ với mức ý nghĩa 90%.\n",
    "\n",
    "Biết rằng thuộc tính SEX có hai giá trị: 1 - gấu đực, 2- gấu cái."
   ]
  },
  {
   "cell_type": "code",
   "execution_count": 31,
   "metadata": {},
   "outputs": [],
   "source": [
    "df = pd.read_excel('data/06_BEARS.xls')"
   ]
  },
  {
   "cell_type": "markdown",
   "metadata": {},
   "source": [
    "### Bài 4\n",
    "\n",
    "Dataset 9 __(MOVIES)__ chứa thông tin khảo sát một số phim trong khoảng thời gian 33 năm gần đây.\n",
    "\n",
    "Có ý kiến cho rằng: __\"55% các phim trong khoảng thời gian 33 năm gần đây có nhãn R (là phim giới hạn độ tuổi - Restricted)\"__ .Theo bạn với mức ý nghĩa 95% ý kiến trên có đúng không?\n",
    "\n",
    "Tham khảo: [Hệ thống phân loại của hiệp hội điện ảnh Mỹ](https://vi.wikipedia.org/wiki/H%E1%BB%87_th%E1%BB%91ng_ph%C3%A2n_lo%E1%BA%A1i_phim_c%E1%BB%A7a_MPAA#Ph%C3%A2n_lo%E1%BA%A1i_v%E1%BB%9Bi_c%C3%A1c_trailer_phim)"
   ]
  },
  {
   "cell_type": "code",
   "execution_count": null,
   "metadata": {},
   "outputs": [],
   "source": [
    "df = pd.read_excel('data/09_MOVIES.xls')"
   ]
  },
  {
   "cell_type": "markdown",
   "metadata": {},
   "source": [
    "## Kiểm định đặc trưng kỳ vọng ($\\mu$) biết ($\\sigma$)"
   ]
  },
  {
   "cell_type": "markdown",
   "metadata": {},
   "source": [
    "### Bài 5\n",
    "\n",
    "Dataset 13 __(VOLTAGE)__ liệt kê các mức điện áp được đo tại các hộ gia đình bởi các máy đo khác nhau: tại nhà (HOME), tại máy phát độc lập (Generator), tại trạm phát (UPS).\n",
    "\n",
    "Công ty cung cấp điện cho vùng này cam kết rằng: __\"Mục tiêu cung cấp điện cho mỗi hộ gia đình là 120V\"__ . Biết rằng độ lệch chuẩn của tất cả các mức điện áp đo được là 0.24V.\n",
    "\n",
    "Với mức ý nghĩa 1%. Bạn hãy kiểm tra xem công ty có làm đúng cam kết hay không?"
   ]
  },
  {
   "cell_type": "code",
   "execution_count": null,
   "metadata": {},
   "outputs": [],
   "source": [
    "df = pd.read_excel('data/13_VOLTAGE.xls')"
   ]
  },
  {
   "cell_type": "markdown",
   "metadata": {},
   "source": [
    "## Kiểm định đặc trưng kỳ vọng ($\\mu$) không biết ($\\sigma$)"
   ]
  },
  {
   "cell_type": "markdown",
   "metadata": {},
   "source": [
    "### Bài 7\n",
    "\n",
    "Dataset 19(__SCREWS__) chứa thông tin khảo sát chiều dài một số đinh ốc được cung cấp bởi công ty Crown Bolt (đơn vị inches)\n",
    "\n",
    "Trên bao bì của các đinh ốc do công ty sản xuất có ghi chiều dài của các đinh ốc là 3/4 inches. Sử dụng mẫu trên bạn hãy cho biết chiều dài của đinh ốc lấy từ mẫu thu nhận được từ dữ liệu trên có nhất quán với chiều dài ghi trên bao bì hay không? Kiểm định với mức ý nghĩa 5%"
   ]
  },
  {
   "cell_type": "code",
   "execution_count": null,
   "metadata": {},
   "outputs": [],
   "source": []
  },
  {
   "cell_type": "markdown",
   "metadata": {},
   "source": [
    "### Bài 8\n",
    "\n",
    "Dataset 13 __(VOLTAGE)__ liệt kê các mức điện áp được đo tại các hộ gia đình bởi các máy đo khác nhau: tại nhà (HOME), tại máy phát độc lập (Generator), tại trạm phát (UPS).\n",
    "\n",
    "Công ty cung cấp điện cho vùng này cam kết rằng: __\"Mục tiêu cung cấp điện cho mỗi hộ gia đình là 120V\"__ .\n",
    "\n",
    "Với mức ý nghĩa 1%. Bạn hãy kiểm tra xem công ty có làm đúng cam kết hay không?"
   ]
  },
  {
   "cell_type": "code",
   "execution_count": null,
   "metadata": {},
   "outputs": [],
   "source": []
  },
  {
   "cell_type": "markdown",
   "metadata": {},
   "source": [
    "### Bài 9\n",
    "\n",
    "Dataset 2 __(BODYTEMP)__ chứa thông tin khảo sát nhiệt độ cơ thể từ một nhóm người vào cùng một thời điểm lúc 12h trưa.\n",
    "\n",
    "Có một phát biểu nói rằng, nhiệt độ cơ thể người đo lúc 12h trưa trong quần thể này là 98,6°\n",
    "\n",
    "Dựa vào mẫu trên, bạn hãy cho biết phát biểu trên đúng hay sai ở mức ý nghĩa là 5%."
   ]
  },
  {
   "cell_type": "code",
   "execution_count": null,
   "metadata": {},
   "outputs": [],
   "source": []
  },
  {
   "cell_type": "markdown",
   "metadata": {},
   "source": [
    "### Bài 10\n",
    "\n",
    "__FICO Score__ là đại lượng dùng để đo khả năng tín dụng của một cá nhân hoặc một tập thể. Sử dụng FICO Score, ngân hàng có thể quyết định xem có nên cho khách hàng mượn tiền hay không?\n",
    "\n",
    "Dataset 24 __(FICO)__ chứa thông tin điểm tín dụng (FICO Score) của một số cá nhân trong vùng.\n",
    "\n",
    "Sử dụng dữ liệu mẫu từ, bạn hãy cho biết ý kiến: __\"điểm tín dùng trung bình của quần thể là 678\"__ là đúng hay sai với mức ý nghĩa 5%"
   ]
  },
  {
   "cell_type": "code",
   "execution_count": null,
   "metadata": {},
   "outputs": [],
   "source": []
  },
  {
   "cell_type": "markdown",
   "metadata": {},
   "source": [
    "---"
   ]
  }
 ],
 "metadata": {
  "kernelspec": {
   "display_name": "base",
   "language": "python",
   "name": "python3"
  },
  "language_info": {
   "codemirror_mode": {
    "name": "ipython",
    "version": 3
   },
   "file_extension": ".py",
   "mimetype": "text/x-python",
   "name": "python",
   "nbconvert_exporter": "python",
   "pygments_lexer": "ipython3",
   "version": "3.11.5"
  }
 },
 "nbformat": 4,
 "nbformat_minor": 2
}
