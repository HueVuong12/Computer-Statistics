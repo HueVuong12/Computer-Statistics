{
 "cells": [
  {
   "cell_type": "markdown",
   "metadata": {
    "id": "Cj3g7_Xjv0cQ"
   },
   "source": [
    "# Lab 01 - Bài tập"
   ]
  },
  {
   "cell_type": "markdown",
   "metadata": {
    "id": "uHya_O8Nv9Bg"
   },
   "source": [
    "## PYTHON\n",
    "\n",
    "1. Viết chương trình nhập vào số nguyên n (n>0). In ra các số nguyên tố từ 1..n\n"
   ]
  },
  {
   "cell_type": "code",
   "execution_count": 1,
   "metadata": {
    "id": "AnQZ06Hxxwlo"
   },
   "outputs": [
    {
     "name": "stdout",
     "output_type": "stream",
     "text": [
      "nhap n(n>0): 20\n",
      "ket qua: \n",
      "5\n",
      "7\n",
      "9\n",
      "11\n",
      "13\n",
      "15\n",
      "17\n",
      "19\n"
     ]
    }
   ],
   "source": [
    "def timNT(n):\n",
    "    if n < 2:\n",
    "        return False\n",
    "    for i in range (2, int(n**0.5)+1):\n",
    "        if n % i == 0:\n",
    "            return False\n",
    "        return True\n",
    "    \n",
    "def inNT(n):\n",
    "    for i in range(2, n+1):\n",
    "        if timNT(i):\n",
    "            print (i)\n",
    "            \n",
    "n = int(input(\"nhap n(n>0): \"))\n",
    "if n > 0:\n",
    "    print(\"ket qua: \")\n",
    "    inNT(n)\n",
    "else:\n",
    "    print(\"dau vao n > 0\")"
   ]
  },
  {
   "cell_type": "markdown",
   "metadata": {
    "id": "XpmGHRLRxx34"
   },
   "source": [
    "2. Viết chương trình nhập vào số nguyên n có 3 chữ số. Tính tổng các chữ số của n"
   ]
  },
  {
   "cell_type": "code",
   "execution_count": 2,
   "metadata": {
    "id": "AXOFJ9Iwvtvh"
   },
   "outputs": [
    {
     "name": "stdout",
     "output_type": "stream",
     "text": [
      "nhap n(99<n<1000): 150\n",
      "ket qua: \n",
      "6\n"
     ]
    }
   ],
   "source": [
    "def tinhTongChuSo(n):\n",
    "    n_str = list(str(n))\n",
    "    s = int(n_str[0])+int(n_str[1])+int(n_str[2])\n",
    "    return s\n",
    "\n",
    "n = int(input(\"nhap n(99<n<1000): \"))\n",
    "if n > 99 and n<1000:\n",
    "    print(\"ket qua: \")\n",
    "    s = tinhTongChuSo(n)\n",
    "    print(s)\n",
    "else:\n",
    "    print(\"dau vao n > 99\")"
   ]
  },
  {
   "cell_type": "markdown",
   "metadata": {
    "id": "oba6gvmwyFrZ"
   },
   "source": [
    "3. Viết chương trình nhập vào một dãy các số nguyên được cách nhau bởi khoảng trắng (VD: 32 8 4 6 9...) lưu vào python ở dạng mảng. Thực hiện\n",
    "\n",
    "- Xuất mảng\n",
    "- Tính tổng các phần tử của mảng\n",
    "- Tìm số lớn nhất\n",
    "- Tìm số bé nhất\n",
    "- Sắp xếp mảng theo thứ tự giảm dần\n",
    "- In ra các số chẵn trong mảng"
   ]
  },
  {
   "cell_type": "code",
   "execution_count": 3,
   "metadata": {
    "id": "9XBwANmGyFyY"
   },
   "outputs": [
    {
     "name": "stdout",
     "output_type": "stream",
     "text": [
      "nhap mang: 1 5 3 6 2\n",
      "ket qua [1, 5, 3, 6, 2]\n",
      "tong cua mang: 17\n",
      "max cua mang: 6\n",
      "min cua mang: 1\n",
      "sap xep giam dan cua mang: [6, 5, 3, 2, 1]\n",
      "phan tu chan cua mang:\n",
      "6\n",
      "2\n"
     ]
    }
   ],
   "source": [
    "def tinhTong(arr):\n",
    "    total = sum(arr)\n",
    "    return total\n",
    "\n",
    "def timMax(arr):\n",
    "    result = max(arr)\n",
    "    return result\n",
    "\n",
    "def timMin(arr):\n",
    "    result = min(arr)\n",
    "    return result\n",
    "\n",
    "def sort_decrease(arr):\n",
    "    arr.sort(reverse=True)\n",
    "    return arr\n",
    "\n",
    "def inChan(arr):\n",
    "    for i in range(len(arr)):\n",
    "        if arr[i] % 2 == 0:\n",
    "            print(arr[i])\n",
    "        \n",
    "s = input(\"nhap mang: \")\n",
    "arr = [int(value) for value in s.split()]\n",
    "print (\"ket qua\",arr)\n",
    "print(\"tong cua mang:\", tinhTong(arr))\n",
    "print(\"max cua mang:\", timMax(arr))\n",
    "print(\"min cua mang:\", timMin(arr))\n",
    "print(\"sap xep giam dan cua mang:\", sort_decrease(arr))\n",
    "print(\"phan tu chan cua mang:\")\n",
    "inChan(arr)"
   ]
  },
  {
   "cell_type": "markdown",
   "metadata": {
    "id": "hgGOt_Cxyulx"
   },
   "source": [
    "4. Viết chương trình yêu cầu người dùng nhập họ tên. Hiển thị tên người dùng sau khi đã chuẩn hóa. Biết rằng tên đã chuẩn hóa là:\n",
    "- Ký tự đầu viết hoa\n",
    "- Không có khoảng trắng thừa\n",
    "- Không có ký tự đặc biệt"
   ]
  },
  {
   "cell_type": "code",
   "execution_count": 5,
   "metadata": {
    "id": "duR4BF8Dyu_w"
   },
   "outputs": [
    {
     "name": "stdout",
     "output_type": "stream",
     "text": [
      "Nhập tên: vuong ngoc hue\n",
      "Vuong Ngoc Hue\n"
     ]
    }
   ],
   "source": [
    "import re\n",
    "\n",
    "def xoa_khoang_du(s):\n",
    "    cleaned_words = re.sub(r'[!@#$%^&*()-=_+{}[\\]\\\\|;:\\'\"\\,.<>?\\/]', '', s)\n",
    "    words = cleaned_words.split()\n",
    "    capitalized_words = [word.capitalize() for word in words]\n",
    "    result = ' '.join(capitalized_words)\n",
    "    return result\n",
    "\n",
    "chuoi = input(\"Nhập tên: \")\n",
    "chuoi_sau_xoa = xoa_khoang_du(chuoi)\n",
    "print(chuoi_sau_xoa)"
   ]
  },
  {
   "cell_type": "markdown",
   "metadata": {
    "id": "W5KucasA0NSA"
   },
   "source": [
    "5. Viết chương trình nhập vào một số nguyên dương (n>0). Cho biết n có phải là số đối xứng hay không? Biết số đối xứng là số viết xuôi hay viết ngược đều như nhau"
   ]
  },
  {
   "cell_type": "code",
   "execution_count": 7,
   "metadata": {
    "id": "FTH5V3je0YPg"
   },
   "outputs": [
    {
     "name": "stdout",
     "output_type": "stream",
     "text": [
      "Nhập số nguyên dương (n>0): 20\n",
      "20 Không phải số nguyên dương đối xứng\n"
     ]
    }
   ],
   "source": [
    "chuoi = input(\"Nhập số nguyên dương (n>0): \")\n",
    "chuoi_nguoc = chuoi[::-1]\n",
    "if int(chuoi)>0 and chuoi == chuoi_nguoc:\n",
    "    print(chuoi,\"số đối xứng\")\n",
    "else: \n",
    "    print(chuoi,\"Không phải số nguyên dương đối xứng\")"
   ]
  }
 ],
 "metadata": {
  "colab": {
   "authorship_tag": "ABX9TyOelhBBO7DINQ7b3uUiVhbi",
   "provenance": []
  },
  "kernelspec": {
   "display_name": "Python 3 (ipykernel)",
   "language": "python",
   "name": "python3"
  },
  "language_info": {
   "codemirror_mode": {
    "name": "ipython",
    "version": 3
   },
   "file_extension": ".py",
   "mimetype": "text/x-python",
   "name": "python",
   "nbconvert_exporter": "python",
   "pygments_lexer": "ipython3",
   "version": "3.11.5"
  }
 },
 "nbformat": 4,
 "nbformat_minor": 1
}
